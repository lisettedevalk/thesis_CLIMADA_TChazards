{
 "cells": [
  {
   "cell_type": "markdown",
   "id": "b16c298f-0bef-40f4-8cf1-6ea31de0edc9",
   "metadata": {},
   "source": [
    "# Precipitation modelling for tropical cyclones"
   ]
  },
  {
   "cell_type": "markdown",
   "id": "c4fd8987-b060-4b06-abfe-28fda068f76c",
   "metadata": {},
   "source": [
    "Based on the Python package CLIMADA, using a Tropical Cyclone Rain (TCR) model:\n",
    "- Read the docs: https://github.com/CLIMADA-project/climada_petals/blob/6381a3c90dc9f1acd1e41c95f826d7dd7f623fff/climada_petals/hazard/tc_rainfield.py#L268\n",
    "- Tutorial: https://climada-petals.readthedocs.io/en/stable/tutorial/climada_hazard_TCRain.html\n",
    "\n",
    "- Read the docs on TCTracks: https://github.com/CLIMADA-project/climada_python/blob/main/climada/hazard/tc_tracks.py "
   ]
  },
  {
   "cell_type": "markdown",
   "id": "97ebbf72-43d7-4d52-9460-f37d2d7a44c8",
   "metadata": {},
   "source": [
    "### For the historical tropical cyclone track database IBTrACS"
   ]
  },
  {
   "cell_type": "markdown",
   "id": "f6d95da0-a4f1-40cd-a7f4-a0551b08bfb5",
   "metadata": {},
   "source": [
    "- Link: https://www.ncei.noaa.gov/products/international-best-track-archive\n",
    "\n",
    "Only the TC tracks from 1940 to 2024 are used in this notebook for consistency in the overall project. This can be easily modified. "
   ]
  },
  {
   "cell_type": "markdown",
   "id": "3bc8969f-b0d7-4935-9ebe-d424eee186d6",
   "metadata": {},
   "source": [
    "### Overview"
   ]
  },
  {
   "cell_type": "markdown",
   "id": "ac8ac6d1-51c9-4010-ba59-28cb225e81aa",
   "metadata": {},
   "source": [
    "This notebook follows the steps below: \n",
    "1. Preparations: loading packages and setting a standard for fonts/colour use\n",
    "2. Generate centroids: create the points for which the modelling will take place\n",
    "3. Load tracks: loading the TC tracks to be used\n",
    "4. Model the hazard: modelling precipitation for all selected tracks, output to be saved"
   ]
  },
  {
   "cell_type": "markdown",
   "id": "b93ec443-d1ce-4ad9-9498-1cbc2f31f380",
   "metadata": {},
   "source": [
    "# 1. Preparations"
   ]
  },
  {
   "cell_type": "markdown",
   "id": "7df9d4cf-a032-43cc-a4e7-c5d4ef98799f",
   "metadata": {},
   "source": [
    "### 1a. Load packages"
   ]
  },
  {
   "cell_type": "code",
   "execution_count": 2,
   "id": "fd0c750f-f190-4709-b9a7-f679df7319ee",
   "metadata": {},
   "outputs": [],
   "source": [
    "import matplotlib.pyplot as plt\n",
    "import numpy as np\n",
    "import pandas as pd\n",
    "import geopandas as gpd\n",
    "import time as timer\n",
    "import os\n",
    "import xarray as xr\n",
    "from requests import HTTPError\n",
    "import cdsapi"
   ]
  },
  {
   "cell_type": "code",
   "execution_count": 3,
   "id": "4a0f99c1-ef52-4a76-a371-dbb5f57953e7",
   "metadata": {},
   "outputs": [],
   "source": [
    "import climada\n",
    "from climada.hazard import TCTracks\n",
    "from climada.hazard import TropCyclone, Centroids\n",
    "from climada_petals.hazard import TCRain"
   ]
  },
  {
   "cell_type": "markdown",
   "id": "7ed71ceb-83b1-45f1-b37b-ded21a808dc1",
   "metadata": {},
   "source": [
    "### 1b. Import functions out python file"
   ]
  },
  {
   "cell_type": "code",
   "execution_count": 5,
   "id": "ee3318a5-9069-4614-a3a5-3971597f508b",
   "metadata": {},
   "outputs": [],
   "source": [
    "import importlib\n",
    "import TC_hazard_modelling\n",
    "\n",
    "importlib.reload(TC_hazard_modelling)\n",
    "\n",
    "# 2. Generate centroids\n",
    "from TC_hazard_modelling import create_centroids_from_shapefiles\n",
    "from TC_hazard_modelling import plot_all_grids_with_zoom\n",
    "\n",
    "# 3. Load tracks\n",
    "from TC_hazard_modelling import select_tracks\n",
    "from TC_hazard_modelling import extract_selected_tracks\n",
    "\n",
    "#4. Model the hazard\n",
    "from TC_hazard_modelling import downloading_ERA5_CDSAPI\n",
    "from TC_hazard_modelling import extract_ERA5_parameters\n",
    "from TC_hazard_modelling import compute_precipitation"
   ]
  },
  {
   "cell_type": "code",
   "execution_count": 6,
   "id": "9e2e1baf-0a45-477b-95fd-c21bc7b6aac6",
   "metadata": {},
   "outputs": [],
   "source": [
    "import warnings\n",
    "warnings.filterwarnings(\"ignore\", category=RuntimeWarning)"
   ]
  },
  {
   "cell_type": "markdown",
   "id": "95f6bc97-e542-415f-9de7-86149eb88b39",
   "metadata": {},
   "source": [
    "### 1c. Create color palette and choose font"
   ]
  },
  {
   "cell_type": "code",
   "execution_count": 9,
   "id": "a976ec6e-2c38-4020-9162-da917d43895f",
   "metadata": {},
   "outputs": [],
   "source": [
    "my_colors = {\n",
    "    \"510brown\": \"#c6bc8b\",\n",
    "    \"510darkblue\": \"#00214d\",\n",
    "    \"510lightblue\": \"#d4e6ff\",\n",
    "    \"510red\": \"#dd281f\",\n",
    "    \"510lightred\": \"#ff7876\", \n",
    "    \"510purple\": \"#958dbe\"\n",
    "}\n",
    "\n",
    "plt.rcParams[\"font.family\"] = \"Arial\""
   ]
  },
  {
   "cell_type": "markdown",
   "id": "0901f693-4372-4383-9eac-54a70de02878",
   "metadata": {},
   "source": [
    "# 2. Generate centroids: a grid of points from the country shapefiles"
   ]
  },
  {
   "cell_type": "markdown",
   "id": "77948df2-34a7-4b78-a041-24d45680a7f6",
   "metadata": {},
   "source": [
    "### 2a. Create a list of centroids per country"
   ]
  },
  {
   "cell_type": "code",
   "execution_count": 19,
   "id": "0d14080f-97f4-4b43-9c1c-76b7dbbae8b3",
   "metadata": {},
   "outputs": [
    {
     "name": "stdout",
     "output_type": "stream",
     "text": [
      "Created centroids for 14 shapefiles.\n",
      "Total number of centroids: 3669\n"
     ]
    }
   ],
   "source": [
    "centroids_list, shapefiles_list = create_centroids_from_shapefiles(folder_path = \"0-level-Leeward++\",      # Path to folder of shapefile(s) \n",
    "                                                                   resolution_km = 2,                      # Desired resolution for point grid (km)\n",
    "                                                                   buffer_km = 0)                          # Optional buffer around the borders of a shapefile (km)\n",
    "\n",
    "total_centroids = sum(c.coord.shape[0] for c in centroids_list)\n",
    "print(f\"Total number of centroids: {total_centroids}\")"
   ]
  },
  {
   "cell_type": "markdown",
   "id": "5445b0ef-a414-41be-86b9-7b1f319e1cc7",
   "metadata": {},
   "source": [
    "# 3. Load IBTrACS data"
   ]
  },
  {
   "cell_type": "markdown",
   "id": "81458f72-e953-401a-95ac-46b0022186fe",
   "metadata": {},
   "source": [
    "### 3a. Use TCTracks to import tracks from IBTrACS"
   ]
  },
  {
   "cell_type": "code",
   "execution_count": 22,
   "id": "43626945-fb25-4e02-82c6-3230b33f336c",
   "metadata": {
    "scrolled": true
   },
   "outputs": [
    {
     "name": "stdout",
     "output_type": "stream",
     "text": [
      "2025-10-08 21:25:22,815 - climada.hazard.tc_tracks - WARNING - 280 storm events are discarded because no valid wind/pressure values have been found: 1940141N22289, 1940252N15313, 1940299N22288, 1941267N14300, 1942215N16275, ...\n",
      "2025-10-08 21:25:22,826 - climada.hazard.tc_tracks - WARNING - 50 storm events are discarded because only one valid timestep has been found: 1940240N26295, 1940263N12279, 1940266N29311, 1940294N12281, 1942283N30289, ...\n",
      "Number of tracks: 989\n"
     ]
    }
   ],
   "source": [
    "tracks = TCTracks.from_ibtracs_netcdf(provider = 'usa',                    # 1 provider for consistent parameters\n",
    "                                           basin=\"NA\",                     # North Atlantic basin\n",
    "                                           year_range = (1940, 2024),      # Same time period as ERA5 reanalysis dataset\n",
    "                                           interpolate_missing = True)     # Interpolate for missing values\n",
    "print(\"Number of tracks:\", tracks.size)"
   ]
  },
  {
   "cell_type": "markdown",
   "id": "ed572d6a-ebb5-4f8c-9030-a95cba903455",
   "metadata": {},
   "source": [
    "### 3b. Pre-select tracks passing the study area\n",
    "A larger area than for the hazards wind speed and storm surge is used, since it is known that TC-related precipitation can occur over large distances. "
   ]
  },
  {
   "cell_type": "code",
   "execution_count": 24,
   "id": "bf5b3d89-e309-4831-b820-52ee96d75d5d",
   "metadata": {},
   "outputs": [
    {
     "name": "stdout",
     "output_type": "stream",
     "text": [
      "Number of tracks: 443\n"
     ]
    }
   ],
   "source": [
    "tracks_LeewardIslands = select_tracks(tracks = tracks,                           # Output of step 3a\n",
    "                                      lon_min = -85, lon_max = -55,              # -85 to -55 degrees West\n",
    "                                      lat_min = 10, lat_max = 25)                # 10 to 25 degrees North\n",
    "\n",
    "print(\"Number of tracks:\", tracks_LeewardIslands.size)"
   ]
  },
  {
   "cell_type": "markdown",
   "id": "d5c1bb43-93e3-4b0f-a2e5-ebf477441a8b",
   "metadata": {},
   "source": [
    "### 3c. Create a list of the storm IDs of the selected tracks and load tracks again"
   ]
  },
  {
   "cell_type": "code",
   "execution_count": 26,
   "id": "ab3dc4bc-8a60-4d30-b7d5-814c80b20ff0",
   "metadata": {},
   "outputs": [],
   "source": [
    "# Make list of tc's for each unique storm-id's\n",
    "sid_list = [track.attrs.get('sid') for track in tracks_LeewardIslands.data]\n",
    "\n",
    "# Retrieve track data again, now per storm going through the Leeward region\n",
    "tr_ = {}\n",
    "\n",
    "for sid in sid_list: \n",
    "    tr_[sid] = TCTracks.from_ibtracs_netcdf(storm_id = sid, provider = 'usa', basin=\"NA\", interpolate_missing = True)\n",
    "    tr_[sid].equal_timestep(time_step_h = 0.5)    # interpolate to 0.5-hourly steps"
   ]
  },
  {
   "cell_type": "markdown",
   "id": "a0e641dc-7c1d-41c6-89d9-220ddef209a1",
   "metadata": {},
   "source": [
    "# 4. Model the hazard"
   ]
  },
  {
   "cell_type": "markdown",
   "id": "98d345a6-39d9-4501-b7ef-48c150714246",
   "metadata": {},
   "source": [
    "### 4a. Background infomration on the Tropical Cyclone Rainfall model"
   ]
  },
  {
   "cell_type": "markdown",
   "id": "30c8c650-29ca-43b9-9f88-d370e3f2277b",
   "metadata": {},
   "source": [
    "Given a TCTracks instance, TCRain computes the precipitation rates (in mm/h) for each historical and/or synthetic track at every centroid and track position. The precipitation rates are then translated into total amounts of rainfall (in mm) by multiplying with each track's time step sizes and summation over the whole storm life time. TCRain inherits from Hazard and has an associated hazard type \"TR\". "
   ]
  },
  {
   "cell_type": "markdown",
   "id": "8899b4ea-b11e-4c39-ad32-6f6e7c778fdf",
   "metadata": {},
   "source": [
    "In addition to common along-track variables, e.g. the wind field, the TCR model requires four additional variables: \n",
    "- gridded topography (surface elevation)\n",
    "- gridded drag coefficients (derived from surface roughness)\n",
    "- along-track 600 hPa temperature at the storm centre\n",
    "- along-track 850 hPa wind speeds averaged over an annulus of 200-500 km around the storm centre\n",
    "\n",
    "The first two are provided within CLIMADA, but the temperature and wind speed variables need to be provided by the user. When using historical IBTrACS records, it is recommended to extract the variables from the ERA5 reanalysis. Providers of synthetic track sets based on climate models (e.g. CHAZ) can often provide both variables along with the track data. "
   ]
  },
  {
   "cell_type": "markdown",
   "id": "1854d368-6e3b-4b67-a882-becef680a14e",
   "metadata": {},
   "source": [
    "**Steps taken:**\n",
    "1. Downloading ERA 5 data using csdapi for timesteps based on TCTrack\n",
    "2. Preparing downloaded ERA5 parameters to correct format\n",
    "3. Combine parameters and run TCrain: save results in CSV file"
   ]
  },
  {
   "cell_type": "markdown",
   "id": "dfafeb94-48be-4cc9-b4c9-9f3428a38a54",
   "metadata": {},
   "source": [
    "### 4b. Downloading ERA5 climate data\n",
    "_Runs in +/- 6,5 hours_\n",
    "\n",
    "An account is needed in the Copernicus Climate Data Store, and the CDSAPI needs to be installed. See link: https://cds.climate.copernicus.eu/how-to-api, on how to access download climate data. In the first run, you will need to approve the terms before it will work. \n",
    "\n",
    "Per storm, the days and times are extracted from the track (tr_[sid]). For those days and times, the ERA5 data is downloaded and saved to a NetCDF file called 'era5_data_{sid}.nc'. The same large bounding box as above is used as input. "
   ]
  },
  {
   "cell_type": "code",
   "execution_count": 33,
   "id": "5ef1dd02-a456-4f8c-958e-58397f764f53",
   "metadata": {},
   "outputs": [],
   "source": [
    "# start_time = timer.time()\n",
    "\n",
    "# downloading_ERA5_CDSAPI(sid_list = sid_list,                                 # Output of step 3c\n",
    "#                         tc_track_dict = tr_,                                 # Output of step 3c\n",
    "#                         lon_min = -85, lon_max = -55,                        # -85 to -55 degrees West\n",
    "#                         lat_min = 10, lat_max = 25,                          # 10 to 25 degrees North\n",
    "#                         output_nc_dir = 'ERA5_data')                         # Output path (folder) as desired\n",
    "\n",
    "# end_time = timer.time()\n",
    "# print(f\"Total calculation time: {end_time - start_time:.2f} seconds ({(end_time - start_time)/60:.2f} minutes)\")"
   ]
  },
  {
   "cell_type": "markdown",
   "id": "17aa3eed-7315-4d34-88c0-870e475256ec",
   "metadata": {},
   "source": [
    "### 4c. Preparing downloaded ERA5 parameters to the correct format\n",
    "_Runs in +/- 3 minutes_"
   ]
  },
  {
   "cell_type": "code",
   "execution_count": 35,
   "id": "a475af97-90a1-4258-a5c8-7e6a2ab1d419",
   "metadata": {},
   "outputs": [
    {
     "name": "stdout",
     "output_type": "stream",
     "text": [
      "All results saved, in 443 files.\n",
      "Total calculation time: 159.87 seconds (2.66 minutes)\n"
     ]
    }
   ],
   "source": [
    "start_time = timer.time()\n",
    "\n",
    "extract_ERA5_parameters(sid_list = sid_list,                    # Output of step 3c\n",
    "                        tc_track_dict = tr_,                    # Output of step 3c\n",
    "                        input_nc_dir = 'ERA5_data',             # Equal to output_nc_dir of step 4b\n",
    "                        output_csv_dir = 'ERA5_parameters')     # Output path (folder) as desired\n",
    "\n",
    "end_time = timer.time()\n",
    "print(f\"Total calculation time: {end_time - start_time:.2f} seconds ({(end_time - start_time)/60:.2f} minutes)\")"
   ]
  },
  {
   "cell_type": "markdown",
   "id": "50373658-ed17-4f36-b0e1-e8d5e03cbf00",
   "metadata": {},
   "source": [
    "### 4d. Combine parameters in TCTrack and run TCRain to obtain total precipitation amounts per point, over the duration of each storm\n",
    "_Runs in +/- 30 minutes_\n",
    "\n",
    "Additional input is required: an elevation map of the area of interest. It was found that the resolution of the elevation map highly affects the resulting precipitation amounts. A sensitivity analysis is recommended for your area of interest. In this notebook, a DEM is downscaled to a resolution of 5 km (method: average). "
   ]
  },
  {
   "cell_type": "code",
   "execution_count": 37,
   "id": "7056b392-b5a4-4ab3-9437-7fe4f5941378",
   "metadata": {},
   "outputs": [
    {
     "name": "stdout",
     "output_type": "stream",
     "text": [
      "2025-10-08 21:44:20,050 - climada.util.api_client - WARNING - there is no internet connection but the client has stored the results of this very request sometime in the past.\n",
      "2025-10-08 21:44:21,440 - climada.util.api_client - WARNING - there is no internet connection but the client has stored the results of this very request sometime in the past.\n",
      "Error for SID 1978220N13325 and ISO SXM: HTTPSConnectionPool(host='climada.ethz.ch', port=443): Max retries exceeded with url: /data-api/v2/dataset/?name=c_drag_500&status=package-data&limit=100000 (Caused by ConnectTimeoutError(<urllib3.connection.HTTPSConnection object at 0x000001B190B6BFD0>, 'Connection to climada.ethz.ch timed out. (connect timeout=300)'))\n",
      "2025-10-08 21:44:43,778 - climada.util.api_client - WARNING - there is no internet connection but the client has stored the results of this very request sometime in the past.\n",
      "2025-10-08 21:44:44,917 - climada.util.api_client - WARNING - there is no internet connection but the client has stored the results of this very request sometime in the past.\n",
      "2025-10-08 21:44:46,053 - climada.util.api_client - WARNING - there is no internet connection but the client has stored the results of this very request sometime in the past.\n",
      "2025-10-08 21:44:47,221 - climada.util.api_client - WARNING - there is no internet connection but the client has stored the results of this very request sometime in the past.\n",
      "2025-10-08 21:44:48,357 - climada.util.api_client - WARNING - there is no internet connection but the client has stored the results of this very request sometime in the past.\n",
      "2025-10-08 21:44:49,519 - climada.util.api_client - WARNING - there is no internet connection but the client has stored the results of this very request sometime in the past.\n",
      "2025-10-08 21:44:50,779 - climada.util.api_client - WARNING - there is no internet connection but the client has stored the results of this very request sometime in the past.\n",
      "2025-10-08 21:44:52,037 - climada.util.api_client - WARNING - there is no internet connection but the client has stored the results of this very request sometime in the past.\n",
      "2025-10-08 21:44:53,170 - climada.util.api_client - WARNING - there is no internet connection but the client has stored the results of this very request sometime in the past.\n",
      "2025-10-08 21:44:54,294 - climada.util.api_client - WARNING - there is no internet connection but the client has stored the results of this very request sometime in the past.\n",
      "2025-10-08 21:44:56,006 - climada.util.api_client - WARNING - there is no internet connection but the client has stored the results of this very request sometime in the past.\n",
      "2025-10-08 21:44:58,032 - climada.util.api_client - WARNING - there is no internet connection but the client has stored the results of this very request sometime in the past.\n",
      "2025-10-08 21:44:59,155 - climada.util.api_client - WARNING - there is no internet connection but the client has stored the results of this very request sometime in the past.\n",
      "2025-10-08 21:45:00,287 - climada.util.api_client - WARNING - there is no internet connection but the client has stored the results of this very request sometime in the past.\n",
      "2025-10-08 21:45:01,458 - climada.util.api_client - WARNING - there is no internet connection but the client has stored the results of this very request sometime in the past.\n",
      "2025-10-08 21:45:03,075 - climada.util.api_client - WARNING - there is no internet connection but the client has stored the results of this very request sometime in the past.\n",
      "2025-10-08 21:45:04,608 - climada.util.api_client - WARNING - there is no internet connection but the client has stored the results of this very request sometime in the past.\n",
      "2025-10-08 21:45:05,761 - climada.util.api_client - WARNING - there is no internet connection but the client has stored the results of this very request sometime in the past.\n",
      "2025-10-08 21:45:06,893 - climada.util.api_client - WARNING - there is no internet connection but the client has stored the results of this very request sometime in the past.\n",
      "2025-10-08 21:45:08,050 - climada.util.api_client - WARNING - there is no internet connection but the client has stored the results of this very request sometime in the past.\n",
      "2025-10-08 21:45:09,188 - climada.util.api_client - WARNING - there is no internet connection but the client has stored the results of this very request sometime in the past.\n",
      "2025-10-08 21:45:10,322 - climada.util.api_client - WARNING - there is no internet connection but the client has stored the results of this very request sometime in the past.\n",
      "2025-10-08 21:45:11,515 - climada.util.api_client - WARNING - there is no internet connection but the client has stored the results of this very request sometime in the past.\n",
      "2025-10-08 21:45:12,680 - climada.util.api_client - WARNING - there is no internet connection but the client has stored the results of this very request sometime in the past.\n",
      "2025-10-08 21:45:13,804 - climada.util.api_client - WARNING - there is no internet connection but the client has stored the results of this very request sometime in the past.\n",
      "2025-10-08 21:45:14,922 - climada.util.api_client - WARNING - there is no internet connection but the client has stored the results of this very request sometime in the past.\n",
      "2025-10-08 21:45:16,059 - climada.util.api_client - WARNING - there is no internet connection but the client has stored the results of this very request sometime in the past.\n",
      "2025-10-08 21:45:17,589 - climada.util.api_client - WARNING - there is no internet connection but the client has stored the results of this very request sometime in the past.\n",
      "2025-10-08 21:45:19,062 - climada.util.api_client - WARNING - there is no internet connection but the client has stored the results of this very request sometime in the past.\n",
      "2025-10-08 21:45:20,175 - climada.util.api_client - WARNING - there is no internet connection but the client has stored the results of this very request sometime in the past.\n",
      "2025-10-08 21:55:11,024 - climada.util.api_client - WARNING - there is no internet connection but the client has stored the results of this very request sometime in the past.\n",
      "2025-10-08 21:55:12,382 - climada.util.api_client - WARNING - there is no internet connection but the client has stored the results of this very request sometime in the past.\n",
      "2025-10-08 21:55:13,844 - climada.util.api_client - WARNING - there is no internet connection but the client has stored the results of this very request sometime in the past.\n",
      "2025-10-08 21:55:14,966 - climada.util.api_client - WARNING - there is no internet connection but the client has stored the results of this very request sometime in the past.\n",
      "2025-10-08 21:55:16,076 - climada.util.api_client - WARNING - there is no internet connection but the client has stored the results of this very request sometime in the past.\n",
      "2025-10-08 21:55:17,210 - climada.util.api_client - WARNING - there is no internet connection but the client has stored the results of this very request sometime in the past.\n",
      "2025-10-08 21:55:18,820 - climada.util.api_client - WARNING - there is no internet connection but the client has stored the results of this very request sometime in the past.\n",
      "Error for SID 2005261N13306 and ISO ATG: HTTPSConnectionPool(host='climada.ethz.ch', port=443): Max retries exceeded with url: /data-api/v2/dataset/?name=c_drag_500&status=package-data&limit=100000 (Caused by ConnectTimeoutError(<urllib3.connection.HTTPSConnection object at 0x000001B19AEF9050>, 'Connection to climada.ethz.ch timed out. (connect timeout=300)'))\n",
      "2025-10-08 21:55:41,138 - climada.util.api_client - WARNING - there is no internet connection but the client has stored the results of this very request sometime in the past.\n",
      "2025-10-08 21:55:42,291 - climada.util.api_client - WARNING - there is no internet connection but the client has stored the results of this very request sometime in the past.\n",
      "2025-10-08 21:55:43,594 - climada.util.api_client - WARNING - there is no internet connection but the client has stored the results of this very request sometime in the past.\n",
      "2025-10-08 21:55:44,811 - climada.util.api_client - WARNING - there is no internet connection but the client has stored the results of this very request sometime in the past.\n",
      "Error for SID 2008229N18293 and ISO PRI: HTTPSConnectionPool(host='climada.ethz.ch', port=443): Max retries exceeded with url: /data-api/v2/dataset/?name=c_drag_500&status=package-data&limit=100000 (Caused by ConnectTimeoutError(<urllib3.connection.HTTPSConnection object at 0x000001B19E617210>, 'Connection to climada.ethz.ch timed out. (connect timeout=300)'))\n",
      "All results saved.\n",
      "Total calculation time: 1761.08 seconds (29.35 minutes)\n"
     ]
    }
   ],
   "source": [
    "start_time = timer.time()\n",
    "\n",
    "# Additional input: a Digital Elevation Model\n",
    "# If not specified, an SRTM-based topography at 0.1 degree resolution provided with CLIMADA is used.\n",
    "elev_file = \"SRTM15Plus/output_SRTM15Plus_-69_-58_12_21_filled_downscaled5km.tiff\"\n",
    "\n",
    "compute_precipitation(sid_list = sid_list,                                              # Output of step 3c\n",
    "                      tc_track_dict = tr_,                                              # Output of step 3c\n",
    "                      shapefiles_list = shapefiles_list,                                # Output of step 2a\n",
    "                      centroids_list = centroids_list,                                  # Output of step 2a\n",
    "                      input_csv_path = 'ERA5_parameters',                               # Equal to output_csv_path of step 4c\n",
    "                      model_kwargs = {'wind_model': \"H08\",# ,                              # Choose wind model as desired, For consistency Holland (2008) is used\n",
    "                                      'elevation_tif': elev_file},                      # Path to DEM file\n",
    "                      output_csv_path = 'rain_output/IBTrACS_precipitation_all++_DEM5km.csv')\n",
    "\n",
    "end_time = timer.time()\n",
    "print(f\"Total calculation time: {end_time - start_time:.2f} seconds ({(end_time - start_time)/60:.2f} minutes)\")"
   ]
  },
  {
   "cell_type": "markdown",
   "id": "da44d815-e1f0-454c-9cab-966dc48062b1",
   "metadata": {},
   "source": [
    "### 4e. Apply a threshold to keep storms that lead to extreme values"
   ]
  },
  {
   "cell_type": "code",
   "execution_count": 14,
   "id": "0e375240-6976-4e68-b917-c5a7ffaf2d4e",
   "metadata": {},
   "outputs": [],
   "source": [
    "df = pd.read_csv('rain_output/IBTrACS_precipitation_all++_DEM5km.csv')\n",
    "\n",
    "# Keep only storms that have at least surge levels a *at least one* point ≥ 0.2 m\n",
    "sids_to_keep = df[df['prec_total_mm'] >= 50]['SID'].unique()\n",
    "df_filtered = df[df['SID'].isin(sids_to_keep)]\n",
    "\n",
    "df_filtered.to_csv('rain_output/IBTrACS_precipitation_all++_DEM5km_POT.csv')"
   ]
  },
  {
   "cell_type": "markdown",
   "id": "54d07638-222a-4cad-9d1f-b15bfc096f25",
   "metadata": {},
   "source": [
    "### 4e. Optional: check output"
   ]
  },
  {
   "cell_type": "code",
   "execution_count": 16,
   "id": "97f53708-88ed-4a87-be55-c9542b5f9227",
   "metadata": {},
   "outputs": [
    {
     "name": "stdout",
     "output_type": "stream",
     "text": [
      "Total size of output pre-threshold: 8114465\n",
      "Number of rows in output pre-threshold: 1622893\n",
      "Total size of output post-threshold: 5444628\n",
      "Number of rows in output post-threshold: 907438\n",
      "\n",
      "Original number of storms (unique SIDs): 443\n",
      "Filtered number of storms (unique SIDs): 248\n",
      "Storms removed: 195\n",
      "\n",
      "Maximum total precipitation amounts in mm per storm (summary):\n",
      "count     248.000000\n",
      "mean      473.798959\n",
      "std       519.106111\n",
      "min        52.570345\n",
      "25%       155.416104\n",
      "50%       314.617105\n",
      "75%       558.421710\n",
      "max      5200.503688\n",
      "Name: storm_max_prec_mm, dtype: float64\n",
      "\n",
      "Top 5 storms by maximum total precipitation amounts:\n",
      "               SID  storm_max_prec_mm\n",
      "134  1999318N17278        5200.503688\n",
      "215  2017260N12310        2310.901826\n",
      "53   1967249N13303        2177.163142\n",
      "102  1989254N13340        2118.260953\n",
      "106  1990277N16301        1828.825461\n"
     ]
    }
   ],
   "source": [
    "df_filtered = pd.read_csv('rain_output/IBTrACS_precipitation_all++_DEM5km_POT.csv')\n",
    "print(f\"Total size of output pre-threshold: {df.size}\")               # Should be equal to number of storms * number of centroids * number of columns\n",
    "print(f\"Number of rows in output pre-threshold: {df.shape[0]}\")       # Should be equal to number of storms * number of centroids\n",
    "\n",
    "print(f\"Total size of output post-threshold: {df_filtered.size}\")               # Should be equal to number of storms * number of centroids * number of columns\n",
    "print(f\"Number of rows in output post-threshold: {df_filtered.shape[0]}\")       # Should be equal to number of storms * number of centroids\n",
    "\n",
    "\n",
    "print(f\"\\nOriginal number of storms (unique SIDs): {df['SID'].nunique():,}\")\n",
    "print(f\"Filtered number of storms (unique SIDs): {df_filtered['SID'].nunique():,}\")\n",
    "print(f\"Storms removed: {df['SID'].nunique() - df_filtered['SID'].nunique():,}\")\n",
    "\n",
    "\n",
    "# Compute the maximum wind speed per storm\n",
    "storm_max = df_filtered.groupby('SID')['prec_total_mm'].max().reset_index()\n",
    "storm_max.rename(columns={'prec_total_mm': 'storm_max_prec_mm'}, inplace=True)\n",
    "\n",
    "print(\"\\nMaximum total precipitation amounts in mm per storm (summary):\")\n",
    "print(storm_max['storm_max_prec_mm'].describe())\n",
    "\n",
    "print(\"\\nTop 5 storms by maximum total precipitation amounts:\")\n",
    "print(storm_max.sort_values('storm_max_prec_mm', ascending=False).head())"
   ]
  },
  {
   "cell_type": "code",
   "execution_count": 25,
   "id": "7a876dbd-0cc9-4049-a7e6-e71291df5254",
   "metadata": {},
   "outputs": [
    {
     "name": "stdout",
     "output_type": "stream",
     "text": [
      "\\begin{tabular}{lXXXXXX}\n",
      "\\toprule\n",
      "Country & Maximum of mean & Mean of mean & Number of storms with precipitation & Mean of mean for storms with precipitation & Maximum of maximum & Mean of maximum \\\\\n",
      "\\midrule\n",
      "Anguilla & 757.200000 & 36.700000 & 221 & 41.200000 & 947.900000 & 45.300000 \\\\\n",
      "Antigua and Barbuda & 488.800000 & 38.900000 & 235 & 40.900000 & 1124.400000 & 96.300000 \\\\\n",
      "Saint Barthélemy & 1348.500000 & 40.200000 & 200 & 49.800000 & 1358.900000 & 41.500000 \\\\\n",
      "Dominica & 878.100000 & 87.700000 & 218 & 99.800000 & 2177.200000 & 368.100000 \\\\\n",
      "Guadeloupe & 699.600000 & 64.700000 & 231 & 69.500000 & 2322.700000 & 321.700000 \\\\\n",
      "Saint Kitts and Nevis & 1306.300000 & 84.300000 & 240 & 87.100000 & 5200.500000 & 276.600000 \\\\\n",
      "Saint Martin & 738.700000 & 41.600000 & 235 & 43.900000 & 1061.000000 & 66.700000 \\\\\n",
      "Montserrat & 818.400000 & 83.200000 & 237 & 87.100000 & 2240.400000 & 268.400000 \\\\\n",
      "Martinique & 445.300000 & 51.700000 & 209 & 61.300000 & 2278.500000 & 321.900000 \\\\\n",
      "Puerto Rico & 937.800000 & 55.600000 & 234 & 58.700000 & 2310.900000 & 265.200000 \\\\\n",
      "SS & 1011.100000 & 35.700000 & 201 & 44.100000 & 1128.300000 & 39.100000 \\\\\n",
      "Sint Maarten & 1302.700000 & 50.500000 & 228 & 54.700000 & 1655.800000 & 75.100000 \\\\\n",
      "British Virgin Islands & 604.200000 & 39.900000 & 242 & 40.800000 & 1178.500000 & 80.100000 \\\\\n",
      "U.S. Virgin Islands & 991.200000 & 44.800000 & 241 & 46.100000 & 2394.400000 & 179.700000 \\\\\n",
      "\\bottomrule\n",
      "\\end{tabular}\n",
      "\n"
     ]
    }
   ],
   "source": [
    "# Map ISO codes to country names\n",
    "country_names = {\n",
    "    'AIA': 'Anguilla',\n",
    "    'ATG': 'Antigua and Barbuda',\n",
    "    'BLM': 'Saint Barthélemy',\n",
    "    'DMA': 'Dominica',\n",
    "    'GLP': 'Guadeloupe',\n",
    "    'KNA': 'Saint Kitts and Nevis',\n",
    "    'MAF': 'Saint Martin',\n",
    "    'MSR': 'Montserrat',\n",
    "    'MTQ': 'Martinique',\n",
    "    'PRI': 'Puerto Rico',\n",
    "    'SAB': 'Saba & Sint Eustatius',\n",
    "    'SXM': 'Sint Maarten',\n",
    "    'VGB': 'British Virgin Islands',\n",
    "    'VIR': 'U.S. Virgin Islands'\n",
    "}\n",
    "\n",
    "# Prepare a list for summary rows\n",
    "summary_rows = []\n",
    "\n",
    "# Group by country and storm ID\n",
    "for iso, group_country in df_filtered.groupby('ISO'):\n",
    "    country = country_names.get(iso, iso)\n",
    "    \n",
    "    per_storm_means = []\n",
    "    per_storm_maxima = []\n",
    "    \n",
    "    # Group by storm (SID)\n",
    "    for sid, storm_group in group_country.groupby('SID'):\n",
    "        storm_prec = storm_group['prec_total_mm'].values\n",
    "        if len(storm_prec) == 0:\n",
    "            continue\n",
    "        \n",
    "        mean_prec = storm_prec.mean()\n",
    "        max_prec = storm_prec.max()\n",
    "        \n",
    "        per_storm_means.append(mean_prec)\n",
    "        per_storm_maxima.append(max_prec)\n",
    "    \n",
    "    # Convert to Series for convenience\n",
    "    per_storm_means = pd.Series(per_storm_means)\n",
    "    per_storm_maxima = pd.Series(per_storm_maxima)\n",
    "    \n",
    "    # Only storms with precipitation > 0\n",
    "    per_storm_means_nonzero = per_storm_means[per_storm_means > 0]\n",
    "    \n",
    "    row = {\n",
    "        'Country': country,\n",
    "        'Maximum of mean': round(per_storm_means.max(), 1),\n",
    "        'Mean of mean': round(per_storm_means.mean(), 1),\n",
    "        'Number of storms with precipitation': len(per_storm_means_nonzero),\n",
    "        'Mean of mean for storms with precipitation': round(per_storm_means_nonzero.mean(), 1) if len(per_storm_means_nonzero) > 0 else 0.0,\n",
    "        'Maximum of maximum': round(per_storm_maxima.max(), 1),\n",
    "        'Mean of maximum': round(per_storm_maxima.mean(), 1)\n",
    "    }\n",
    "    \n",
    "    summary_rows.append(row)\n",
    "\n",
    "# Convert to DataFrame\n",
    "df_summary = pd.DataFrame(summary_rows)\n",
    "\n",
    "# Output LaTeX table\n",
    "latex_table = df_summary.to_latex(index=False, escape=False, column_format='lXXXXXX')\n",
    "print(latex_table)\n"
   ]
  },
  {
   "cell_type": "code",
   "execution_count": null,
   "id": "83874ba1-d78f-407e-add2-0463d8cca39e",
   "metadata": {},
   "outputs": [],
   "source": []
  }
 ],
 "metadata": {
  "kernelspec": {
   "display_name": "multi_more",
   "language": "python",
   "name": "multi_more"
  },
  "language_info": {
   "codemirror_mode": {
    "name": "ipython",
    "version": 3
   },
   "file_extension": ".py",
   "mimetype": "text/x-python",
   "name": "python",
   "nbconvert_exporter": "python",
   "pygments_lexer": "ipython3",
   "version": "3.11.10"
  }
 },
 "nbformat": 4,
 "nbformat_minor": 5
}
